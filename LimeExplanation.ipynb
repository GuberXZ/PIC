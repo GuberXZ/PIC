{
 "cells": [
  {
   "cell_type": "code",
   "execution_count": 1,
   "metadata": {},
   "outputs": [],
   "source": [
    "import joblib\n",
    "import numpy as np\n",
    "import pandas as pd\n",
    "import lime.lime_tabular\n",
    "import localmodules.conversor as c"
   ]
  },
  {
   "cell_type": "code",
   "execution_count": 14,
   "metadata": {},
   "outputs": [
    {
     "name": "stderr",
     "output_type": "stream",
     "text": [
      "c:\\Users\\jonas\\AppData\\Local\\Programs\\Python\\Python310\\lib\\site-packages\\sklearn\\base.py:329: UserWarning: Trying to unpickle estimator DecisionTreeClassifier from version 1.0 when using version 1.0.2. This might lead to breaking code or invalid results. Use at your own risk. For more info please refer to:\n",
      "https://scikit-learn.org/stable/modules/model_persistence.html#security-maintainability-limitations\n",
      "  warnings.warn(\n",
      "c:\\Users\\jonas\\AppData\\Local\\Programs\\Python\\Python310\\lib\\site-packages\\sklearn\\base.py:329: UserWarning: Trying to unpickle estimator RandomForestClassifier from version 1.0 when using version 1.0.2. This might lead to breaking code or invalid results. Use at your own risk. For more info please refer to:\n",
      "https://scikit-learn.org/stable/modules/model_persistence.html#security-maintainability-limitations\n",
      "  warnings.warn(\n"
     ]
    },
    {
     "ename": "TypeError",
     "evalue": "read_csv() missing 1 required positional argument: 'filepath_or_buffer'",
     "output_type": "error",
     "traceback": [
      "\u001b[1;31m---------------------------------------------------------------------------\u001b[0m",
      "\u001b[1;31mTypeError\u001b[0m                                 Traceback (most recent call last)",
      "\u001b[1;32mc:\\Users\\jonas\\Documents\\GitHub\\PIC\\LimeExplanation.ipynb Cell 2'\u001b[0m in \u001b[0;36m<cell line: 10>\u001b[1;34m()\u001b[0m\n\u001b[0;32m      <a href='vscode-notebook-cell:/c%3A/Users/jonas/Documents/GitHub/PIC/LimeExplanation.ipynb#ch0000001?line=6'>7</a>\u001b[0m df \u001b[39m=\u001b[39m pd\u001b[39m.\u001b[39mDataFrame(data)\n\u001b[0;32m      <a href='vscode-notebook-cell:/c%3A/Users/jonas/Documents/GitHub/PIC/LimeExplanation.ipynb#ch0000001?line=7'>8</a>\u001b[0m rfb \u001b[39m=\u001b[39m joblib\u001b[39m.\u001b[39mload(\u001b[39m'\u001b[39m\u001b[39m./zDatabase/randomforests.joblib\u001b[39m\u001b[39m'\u001b[39m)\n\u001b[1;32m---> <a href='vscode-notebook-cell:/c%3A/Users/jonas/Documents/GitHub/PIC/LimeExplanation.ipynb#ch0000001?line=9'>10</a>\u001b[0m train: pd\u001b[39m.\u001b[39mDataFrame \u001b[39m=\u001b[39m pd\u001b[39m.\u001b[39;49mread_csv()\n\u001b[0;32m     <a href='vscode-notebook-cell:/c%3A/Users/jonas/Documents/GitHub/PIC/LimeExplanation.ipynb#ch0000001?line=10'>11</a>\u001b[0m trnX: np\u001b[39m.\u001b[39mndarray \u001b[39m=\u001b[39m train\u001b[39m.\u001b[39mvalues\n",
      "File \u001b[1;32mc:\\Users\\jonas\\AppData\\Local\\Programs\\Python\\Python310\\lib\\site-packages\\pandas\\util\\_decorators.py:311\u001b[0m, in \u001b[0;36mdeprecate_nonkeyword_arguments.<locals>.decorate.<locals>.wrapper\u001b[1;34m(*args, **kwargs)\u001b[0m\n\u001b[0;32m    <a href='file:///c%3A/Users/jonas/AppData/Local/Programs/Python/Python310/lib/site-packages/pandas/util/_decorators.py?line=304'>305</a>\u001b[0m \u001b[39mif\u001b[39;00m \u001b[39mlen\u001b[39m(args) \u001b[39m>\u001b[39m num_allow_args:\n\u001b[0;32m    <a href='file:///c%3A/Users/jonas/AppData/Local/Programs/Python/Python310/lib/site-packages/pandas/util/_decorators.py?line=305'>306</a>\u001b[0m     warnings\u001b[39m.\u001b[39mwarn(\n\u001b[0;32m    <a href='file:///c%3A/Users/jonas/AppData/Local/Programs/Python/Python310/lib/site-packages/pandas/util/_decorators.py?line=306'>307</a>\u001b[0m         msg\u001b[39m.\u001b[39mformat(arguments\u001b[39m=\u001b[39marguments),\n\u001b[0;32m    <a href='file:///c%3A/Users/jonas/AppData/Local/Programs/Python/Python310/lib/site-packages/pandas/util/_decorators.py?line=307'>308</a>\u001b[0m         \u001b[39mFutureWarning\u001b[39;00m,\n\u001b[0;32m    <a href='file:///c%3A/Users/jonas/AppData/Local/Programs/Python/Python310/lib/site-packages/pandas/util/_decorators.py?line=308'>309</a>\u001b[0m         stacklevel\u001b[39m=\u001b[39mstacklevel,\n\u001b[0;32m    <a href='file:///c%3A/Users/jonas/AppData/Local/Programs/Python/Python310/lib/site-packages/pandas/util/_decorators.py?line=309'>310</a>\u001b[0m     )\n\u001b[1;32m--> <a href='file:///c%3A/Users/jonas/AppData/Local/Programs/Python/Python310/lib/site-packages/pandas/util/_decorators.py?line=310'>311</a>\u001b[0m \u001b[39mreturn\u001b[39;00m func(\u001b[39m*\u001b[39margs, \u001b[39m*\u001b[39m\u001b[39m*\u001b[39mkwargs)\n",
      "\u001b[1;31mTypeError\u001b[0m: read_csv() missing 1 required positional argument: 'filepath_or_buffer'"
     ]
    }
   ],
   "source": [
    "#Definição variáveis iniciais\n",
    "file = './zDatabase/XAI - Limpo_dummified_minmax_smote.csv'\n",
    "fileT = './zDatabase/XAI - Limpo_dummified_minmax_smote_train.csv'\n",
    "\n",
    "tc = 'surgycal margin'\n",
    "data = pd.read_csv(file,index_col=tc,na_values='',sep=',', decimal='.')\n",
    "df = pd.DataFrame(data)\n",
    "rfb = joblib.load('./zDatabase/randomforests.joblib')\n",
    "\n",
    "train: pd.DataFrame = pd.read_csv()\n",
    "trnX: np.ndarray = train.values"
   ]
  },
  {
   "cell_type": "code",
   "execution_count": 7,
   "metadata": {},
   "outputs": [
    {
     "name": "stdout",
     "output_type": "stream",
     "text": [
      "Input=[[0.444078947, 0.2, 0.352631579, 0.05, 0.0, 0, 0, 0, 0, 0, 0, 0, 0, 1, 0, 0, 0, 0]], Predicted=[0]\n"
     ]
    }
   ],
   "source": [
    "#Previsão\n",
    "#[Age.at.MRI,Prostate.volume,PSA.value.at.MRI,Index.lesion.PIRADS.V2,Index.lesion.size,\n",
    "# Capsular.contact.lenght_TLC,Smooth.capsular.bulging,Capsular.disruption,Unsharp.margin,\n",
    "# Irregular.contour,Black.estrition.periprostatic.fat,Retoprostatic.angle.obliteration,\n",
    "# Measurable.ECE,ECE.in.prostatectomy.specimen_gold.standard,Gleason.score,regra,surgycal margin] L=17\n",
    "##-----------------------------------------------------------------------------------------------##\n",
    "#[Age.at.MRI,Prostate.volume,PSA.value.at.MRI,Index.lesion.size,Capsular.contact.lenght_TLC,\n",
    "# Smooth.capsular.bulging,Capsular.disruption,Unsharp.margin,Irregular.contour,Black.estrition.periprostatic.fat,\n",
    "# Retoprostatic.angle.obliteration,Measurable.ECE,ECE.in.prostatectomy.specimen_gold.standard,Gleason.score\n",
    "# regra,Index.lesion.PIRADS.V2_3,Index.lesion.PIRADS.V2_4,Index.lesion.PIRADS.V2_5,surgycal margin] L=19\n",
    "\n",
    "#Conversão -> Transformação valor na posição [3] para \n",
    "col = ['Age.at.MRI','Prostate.volume','PSA.value.at.MRI','Index.lesion.size',\n",
    "       'Capsular.contact.lenght_TLC','Smooth.capsular.bulging','Capsular.disruption','Unsharp.margin',\n",
    "       'Irregular.contour','Black.estrition.periprostatic.fat','Retoprostatic.angle.obliteration',\n",
    "       'Measurable.ECE','ECE.in.prostatectomy.specimen_gold.standard','Gleason.score','regra',\n",
    "       'Index.lesion.PIRADS.V2_3','Index.lesion.PIRADS.V2_4','Index.lesion.PIRADS.V2_5','surgycal margin']\n",
    "X = [0.444078947,0.2,0.352631579,0.37037037,0.05,0,0,0,0,0,0,0,0,0,1,0,0,1,0]\n",
    "XX = c.dumm(X)\n",
    "XXX = c.minmax(XX,data)\n",
    "XXX.pop(-1)\n",
    "Y = [XXX]\n",
    "\n",
    "pred = rfb.predict(Y)\n",
    "print(\"Input=%s, Predicted=%s\" % (Y, pred))"
   ]
  },
  {
   "cell_type": "code",
   "execution_count": 13,
   "metadata": {},
   "outputs": [
    {
     "ename": "IndexError",
     "evalue": "tuple index out of range",
     "output_type": "error",
     "traceback": [
      "\u001b[1;31m---------------------------------------------------------------------------\u001b[0m",
      "\u001b[1;31mIndexError\u001b[0m                                Traceback (most recent call last)",
      "\u001b[1;32mc:\\Users\\jonas\\Documents\\GitHub\\PIC\\LimeExplanation.ipynb Cell 4'\u001b[0m in \u001b[0;36m<cell line: 2>\u001b[1;34m()\u001b[0m\n\u001b[0;32m      <a href='vscode-notebook-cell:/c%3A/Users/jonas/Documents/GitHub/PIC/LimeExplanation.ipynb#ch0000003?line=0'>1</a>\u001b[0m \u001b[39m#Lime\u001b[39;00m\n\u001b[1;32m----> <a href='vscode-notebook-cell:/c%3A/Users/jonas/Documents/GitHub/PIC/LimeExplanation.ipynb#ch0000003?line=1'>2</a>\u001b[0m explainer \u001b[39m=\u001b[39m lime\u001b[39m.\u001b[39;49mlime_tabular\u001b[39m.\u001b[39;49mLimeTabularExplainer(train\u001b[39m.\u001b[39;49miloc[:, \u001b[39m0\u001b[39;49m] ,class_names\u001b[39m=\u001b[39;49m[\u001b[39m'\u001b[39;49m\u001b[39mSurgycalMargin-0\u001b[39;49m\u001b[39m'\u001b[39;49m,\u001b[39m'\u001b[39;49m\u001b[39mSurgycalMargin-1\u001b[39;49m\u001b[39m'\u001b[39;49m], feature_names \u001b[39m=\u001b[39;49m col,\n\u001b[0;32m      <a href='vscode-notebook-cell:/c%3A/Users/jonas/Documents/GitHub/PIC/LimeExplanation.ipynb#ch0000003?line=2'>3</a>\u001b[0m                                                    categorical_features\u001b[39m=\u001b[39;49m[\u001b[39m5\u001b[39;49m,\u001b[39m6\u001b[39;49m,\u001b[39m7\u001b[39;49m,\u001b[39m8\u001b[39;49m,\u001b[39m9\u001b[39;49m,\u001b[39m10\u001b[39;49m,\u001b[39m11\u001b[39;49m,\u001b[39m12\u001b[39;49m,\u001b[39m13\u001b[39;49m,\u001b[39m14\u001b[39;49m,\u001b[39m15\u001b[39;49m,\u001b[39m16\u001b[39;49m,\u001b[39m17\u001b[39;49m], \n\u001b[0;32m      <a href='vscode-notebook-cell:/c%3A/Users/jonas/Documents/GitHub/PIC/LimeExplanation.ipynb#ch0000003?line=3'>4</a>\u001b[0m                                                    categorical_names\u001b[39m=\u001b[39;49m[col[i] \u001b[39mfor\u001b[39;49;00m i \u001b[39min\u001b[39;49;00m \u001b[39mrange\u001b[39;49m(\u001b[39m5\u001b[39;49m,\u001b[39m18\u001b[39;49m)], kernel_width\u001b[39m=\u001b[39;49m\u001b[39m3\u001b[39;49m, verbose\u001b[39m=\u001b[39;49m\u001b[39mTrue\u001b[39;49;00m)\n\u001b[0;32m      <a href='vscode-notebook-cell:/c%3A/Users/jonas/Documents/GitHub/PIC/LimeExplanation.ipynb#ch0000003?line=5'>6</a>\u001b[0m exp \u001b[39m=\u001b[39m explainer\u001b[39m.\u001b[39mexplain_instance(np\u001b[39m.\u001b[39masarray(XXX),rfb\u001b[39m.\u001b[39mpredict_proba,num_features\u001b[39m=\u001b[39m\u001b[39m5\u001b[39m,num_samples\u001b[39m=\u001b[39m\u001b[39m1000\u001b[39m)\n\u001b[0;32m      <a href='vscode-notebook-cell:/c%3A/Users/jonas/Documents/GitHub/PIC/LimeExplanation.ipynb#ch0000003?line=6'>7</a>\u001b[0m exp\u001b[39m.\u001b[39mshow_in_notebook()\n",
      "File \u001b[1;32mc:\\Users\\jonas\\AppData\\Local\\Programs\\Python\\Python310\\lib\\site-packages\\lime\\lime_tabular.py:215\u001b[0m, in \u001b[0;36mLimeTabularExplainer.__init__\u001b[1;34m(self, training_data, mode, training_labels, feature_names, categorical_features, categorical_names, kernel_width, kernel, verbose, class_names, feature_selection, discretize_continuous, discretizer, sample_around_instance, random_state, training_data_stats)\u001b[0m\n\u001b[0;32m    <a href='file:///c%3A/Users/jonas/AppData/Local/Programs/Python/Python310/lib/site-packages/lime/lime_tabular.py?line=208'>209</a>\u001b[0m     discretizer \u001b[39m=\u001b[39m StatsDiscretizer(training_data, \u001b[39mself\u001b[39m\u001b[39m.\u001b[39mcategorical_features,\n\u001b[0;32m    <a href='file:///c%3A/Users/jonas/AppData/Local/Programs/Python/Python310/lib/site-packages/lime/lime_tabular.py?line=209'>210</a>\u001b[0m                                    \u001b[39mself\u001b[39m\u001b[39m.\u001b[39mfeature_names, labels\u001b[39m=\u001b[39mtraining_labels,\n\u001b[0;32m    <a href='file:///c%3A/Users/jonas/AppData/Local/Programs/Python/Python310/lib/site-packages/lime/lime_tabular.py?line=210'>211</a>\u001b[0m                                    data_stats\u001b[39m=\u001b[39m\u001b[39mself\u001b[39m\u001b[39m.\u001b[39mtraining_data_stats,\n\u001b[0;32m    <a href='file:///c%3A/Users/jonas/AppData/Local/Programs/Python/Python310/lib/site-packages/lime/lime_tabular.py?line=211'>212</a>\u001b[0m                                    random_state\u001b[39m=\u001b[39m\u001b[39mself\u001b[39m\u001b[39m.\u001b[39mrandom_state)\n\u001b[0;32m    <a href='file:///c%3A/Users/jonas/AppData/Local/Programs/Python/Python310/lib/site-packages/lime/lime_tabular.py?line=213'>214</a>\u001b[0m \u001b[39mif\u001b[39;00m discretizer \u001b[39m==\u001b[39m \u001b[39m'\u001b[39m\u001b[39mquartile\u001b[39m\u001b[39m'\u001b[39m:\n\u001b[1;32m--> <a href='file:///c%3A/Users/jonas/AppData/Local/Programs/Python/Python310/lib/site-packages/lime/lime_tabular.py?line=214'>215</a>\u001b[0m     \u001b[39mself\u001b[39m\u001b[39m.\u001b[39mdiscretizer \u001b[39m=\u001b[39m QuartileDiscretizer(\n\u001b[0;32m    <a href='file:///c%3A/Users/jonas/AppData/Local/Programs/Python/Python310/lib/site-packages/lime/lime_tabular.py?line=215'>216</a>\u001b[0m             training_data, \u001b[39mself\u001b[39;49m\u001b[39m.\u001b[39;49mcategorical_features,\n\u001b[0;32m    <a href='file:///c%3A/Users/jonas/AppData/Local/Programs/Python/Python310/lib/site-packages/lime/lime_tabular.py?line=216'>217</a>\u001b[0m             \u001b[39mself\u001b[39;49m\u001b[39m.\u001b[39;49mfeature_names, labels\u001b[39m=\u001b[39;49mtraining_labels,\n\u001b[0;32m    <a href='file:///c%3A/Users/jonas/AppData/Local/Programs/Python/Python310/lib/site-packages/lime/lime_tabular.py?line=217'>218</a>\u001b[0m             random_state\u001b[39m=\u001b[39;49m\u001b[39mself\u001b[39;49m\u001b[39m.\u001b[39;49mrandom_state)\n\u001b[0;32m    <a href='file:///c%3A/Users/jonas/AppData/Local/Programs/Python/Python310/lib/site-packages/lime/lime_tabular.py?line=218'>219</a>\u001b[0m \u001b[39melif\u001b[39;00m discretizer \u001b[39m==\u001b[39m \u001b[39m'\u001b[39m\u001b[39mdecile\u001b[39m\u001b[39m'\u001b[39m:\n\u001b[0;32m    <a href='file:///c%3A/Users/jonas/AppData/Local/Programs/Python/Python310/lib/site-packages/lime/lime_tabular.py?line=219'>220</a>\u001b[0m     \u001b[39mself\u001b[39m\u001b[39m.\u001b[39mdiscretizer \u001b[39m=\u001b[39m DecileDiscretizer(\n\u001b[0;32m    <a href='file:///c%3A/Users/jonas/AppData/Local/Programs/Python/Python310/lib/site-packages/lime/lime_tabular.py?line=220'>221</a>\u001b[0m             training_data, \u001b[39mself\u001b[39m\u001b[39m.\u001b[39mcategorical_features,\n\u001b[0;32m    <a href='file:///c%3A/Users/jonas/AppData/Local/Programs/Python/Python310/lib/site-packages/lime/lime_tabular.py?line=221'>222</a>\u001b[0m             \u001b[39mself\u001b[39m\u001b[39m.\u001b[39mfeature_names, labels\u001b[39m=\u001b[39mtraining_labels,\n\u001b[0;32m    <a href='file:///c%3A/Users/jonas/AppData/Local/Programs/Python/Python310/lib/site-packages/lime/lime_tabular.py?line=222'>223</a>\u001b[0m             random_state\u001b[39m=\u001b[39m\u001b[39mself\u001b[39m\u001b[39m.\u001b[39mrandom_state)\n",
      "File \u001b[1;32mc:\\Users\\jonas\\AppData\\Local\\Programs\\Python\\Python310\\lib\\site-packages\\lime\\discretize.py:178\u001b[0m, in \u001b[0;36mQuartileDiscretizer.__init__\u001b[1;34m(self, data, categorical_features, feature_names, labels, random_state)\u001b[0m\n\u001b[0;32m    <a href='file:///c%3A/Users/jonas/AppData/Local/Programs/Python/Python310/lib/site-packages/lime/discretize.py?line=175'>176</a>\u001b[0m \u001b[39mdef\u001b[39;00m \u001b[39m__init__\u001b[39m(\u001b[39mself\u001b[39m, data, categorical_features, feature_names, labels\u001b[39m=\u001b[39m\u001b[39mNone\u001b[39;00m, random_state\u001b[39m=\u001b[39m\u001b[39mNone\u001b[39;00m):\n\u001b[1;32m--> <a href='file:///c%3A/Users/jonas/AppData/Local/Programs/Python/Python310/lib/site-packages/lime/discretize.py?line=177'>178</a>\u001b[0m     BaseDiscretizer\u001b[39m.\u001b[39;49m\u001b[39m__init__\u001b[39;49m(\u001b[39mself\u001b[39;49m, data, categorical_features,\n\u001b[0;32m    <a href='file:///c%3A/Users/jonas/AppData/Local/Programs/Python/Python310/lib/site-packages/lime/discretize.py?line=178'>179</a>\u001b[0m                              feature_names, labels\u001b[39m=\u001b[39;49mlabels,\n\u001b[0;32m    <a href='file:///c%3A/Users/jonas/AppData/Local/Programs/Python/Python310/lib/site-packages/lime/discretize.py?line=179'>180</a>\u001b[0m                              random_state\u001b[39m=\u001b[39;49mrandom_state)\n",
      "File \u001b[1;32mc:\\Users\\jonas\\AppData\\Local\\Programs\\Python\\Python310\\lib\\site-packages\\lime\\discretize.py:39\u001b[0m, in \u001b[0;36mBaseDiscretizer.__init__\u001b[1;34m(self, data, categorical_features, feature_names, labels, random_state, data_stats)\u001b[0m\n\u001b[0;32m     <a href='file:///c%3A/Users/jonas/AppData/Local/Programs/Python/Python310/lib/site-packages/lime/discretize.py?line=21'>22</a>\u001b[0m \u001b[39mdef\u001b[39;00m \u001b[39m__init__\u001b[39m(\u001b[39mself\u001b[39m, data, categorical_features, feature_names, labels\u001b[39m=\u001b[39m\u001b[39mNone\u001b[39;00m, random_state\u001b[39m=\u001b[39m\u001b[39mNone\u001b[39;00m,\n\u001b[0;32m     <a href='file:///c%3A/Users/jonas/AppData/Local/Programs/Python/Python310/lib/site-packages/lime/discretize.py?line=22'>23</a>\u001b[0m              data_stats\u001b[39m=\u001b[39m\u001b[39mNone\u001b[39;00m):\n\u001b[0;32m     <a href='file:///c%3A/Users/jonas/AppData/Local/Programs/Python/Python310/lib/site-packages/lime/discretize.py?line=23'>24</a>\u001b[0m     \u001b[39m\"\"\"Initializer\u001b[39;00m\n\u001b[0;32m     <a href='file:///c%3A/Users/jonas/AppData/Local/Programs/Python/Python310/lib/site-packages/lime/discretize.py?line=24'>25</a>\u001b[0m \u001b[39m    Args:\u001b[39;00m\n\u001b[0;32m     <a href='file:///c%3A/Users/jonas/AppData/Local/Programs/Python/Python310/lib/site-packages/lime/discretize.py?line=25'>26</a>\u001b[0m \u001b[39m        data: numpy 2d array\u001b[39;00m\n\u001b[1;32m   (...)\u001b[0m\n\u001b[0;32m     <a href='file:///c%3A/Users/jonas/AppData/Local/Programs/Python/Python310/lib/site-packages/lime/discretize.py?line=36'>37</a>\u001b[0m \u001b[39m            if you don't want these values to be computed from data\u001b[39;00m\n\u001b[0;32m     <a href='file:///c%3A/Users/jonas/AppData/Local/Programs/Python/Python310/lib/site-packages/lime/discretize.py?line=37'>38</a>\u001b[0m \u001b[39m    \"\"\"\u001b[39;00m\n\u001b[1;32m---> <a href='file:///c%3A/Users/jonas/AppData/Local/Programs/Python/Python310/lib/site-packages/lime/discretize.py?line=38'>39</a>\u001b[0m     \u001b[39mself\u001b[39m\u001b[39m.\u001b[39mto_discretize \u001b[39m=\u001b[39m ([x \u001b[39mfor\u001b[39;00m x \u001b[39min\u001b[39;00m \u001b[39mrange\u001b[39m(data\u001b[39m.\u001b[39;49mshape[\u001b[39m1\u001b[39;49m])\n\u001b[0;32m     <a href='file:///c%3A/Users/jonas/AppData/Local/Programs/Python/Python310/lib/site-packages/lime/discretize.py?line=39'>40</a>\u001b[0m                            \u001b[39mif\u001b[39;00m x \u001b[39mnot\u001b[39;00m \u001b[39min\u001b[39;00m categorical_features])\n\u001b[0;32m     <a href='file:///c%3A/Users/jonas/AppData/Local/Programs/Python/Python310/lib/site-packages/lime/discretize.py?line=40'>41</a>\u001b[0m     \u001b[39mself\u001b[39m\u001b[39m.\u001b[39mdata_stats \u001b[39m=\u001b[39m data_stats\n\u001b[0;32m     <a href='file:///c%3A/Users/jonas/AppData/Local/Programs/Python/Python310/lib/site-packages/lime/discretize.py?line=41'>42</a>\u001b[0m     \u001b[39mself\u001b[39m\u001b[39m.\u001b[39mnames \u001b[39m=\u001b[39m {}\n",
      "\u001b[1;31mIndexError\u001b[0m: tuple index out of range"
     ]
    }
   ],
   "source": [
    "#Lime\n",
    "explainer = lime.lime_tabular.LimeTabularExplainer(train,class_names=['SurgycalMargin-0','SurgycalMargin-1'],feature_names=col,\n",
    "                                                   categorical_features=[5,6,7,8,9,10,11,12,13,14,15,16,17], \n",
    "                                                   categorical_names=[col[i] for i in range(5,18)],kernel_width=3,verbose=True)\n",
    "\n",
    "exp = explainer.explain_instance(np.asarray(XXX),rfb.predict_proba,num_features=5,num_samples=1000)\n",
    "exp.show_in_notebook()\n",
    "exp.as_list()"
   ]
  },
  {
   "cell_type": "code",
   "execution_count": 3,
   "metadata": {},
   "outputs": [
    {
     "data": {
      "text/plain": [
       "'temp-plot.html'"
      ]
     },
     "execution_count": 3,
     "metadata": {},
     "output_type": "execute_result"
    }
   ],
   "source": [
    "\n",
    "import plotly.graph_objects as go\n",
    "import plotly.offline as pyo\n",
    "\n",
    "\n",
    "categories = ['Food Quality', 'Food Variety', 'Service Quality', 'Ambience', 'Affordability']\n",
    "categories = [*categories, categories[0]]\n",
    "\n",
    "restaurant_1 = [4, 4, 5, 4, 3]\n",
    "restaurant_2 = [5, 5, 4, 5, 2]\n",
    "restaurant_3 = [3, 4, 5, 3, 5]\n",
    "restaurant_1 = [*restaurant_1, restaurant_1[0]]\n",
    "restaurant_2 = [*restaurant_2, restaurant_2[0]]\n",
    "restaurant_3 = [*restaurant_3, restaurant_3[0]]\n",
    "\n",
    "\n",
    "fig = go.Figure(\n",
    "    data=[\n",
    "        go.Scatterpolar(r=restaurant_1, theta=categories, fill='toself', name='Restaurant 1'),\n",
    "        go.Scatterpolar(r=restaurant_2, theta=categories, fill='toself', name='Restaurant 2'),\n",
    "        go.Scatterpolar(r=restaurant_3, theta=categories, fill='toself', name='Restaurant 3')\n",
    "    ],\n",
    "    layout=go.Layout(\n",
    "        title=go.layout.Title(text='Restaurant comparison'),\n",
    "        polar={'radialaxis': {'visible': True}},\n",
    "        showlegend=True\n",
    "    )\n",
    ")\n",
    "\n",
    "pyo.plot(fig)"
   ]
  }
 ],
 "metadata": {
  "interpreter": {
   "hash": "683e9bbf599fde3b00e37a0db68ad40a268db525b46af3924c3427b16ddb8792"
  },
  "kernelspec": {
   "display_name": "Python 3.10.2 64-bit",
   "language": "python",
   "name": "python3"
  },
  "language_info": {
   "codemirror_mode": {
    "name": "ipython",
    "version": 3
   },
   "file_extension": ".py",
   "mimetype": "text/x-python",
   "name": "python",
   "nbconvert_exporter": "python",
   "pygments_lexer": "ipython3",
   "version": "3.10.2"
  },
  "orig_nbformat": 4
 },
 "nbformat": 4,
 "nbformat_minor": 2
}
