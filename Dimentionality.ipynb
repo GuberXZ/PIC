{
 "cells": [
  {
   "cell_type": "code",
   "execution_count": 1,
   "metadata": {},
   "outputs": [],
   "source": [
    "import itertools\n",
    "import numpy as np\n",
    "import pandas as pd\n",
    "import ds_charts as ds\n",
    "from datetime import datetime\n",
    "import matplotlib.pyplot as plt\n",
    "from seaborn import distplot,heatmap\n",
    "from sklearn.naive_bayes import GaussianNB\n",
    "from sklearn.metrics import accuracy_score, confusion_matrix\n",
    "from sklearn.neural_network import MLPClassifier\n",
    "from sklearn.model_selection import train_test_split\n",
    "from pandas.plotting import register_matplotlib_converters\n"
   ]
  },
  {
   "cell_type": "code",
   "execution_count": 2,
   "metadata": {},
   "outputs": [
    {
     "data": {
      "text/plain": [
       "Age.at.MRI                                     float64\n",
       "Prostate.volume                                  int64\n",
       "PSA.value.at.MRI                               float64\n",
       "Index.lesion.PIRADS.V2                           int64\n",
       "Index.lesion.size                                int64\n",
       "Capsular.contact.lenght_TLC                      int64\n",
       "Smooth.capsular.bulging                          int64\n",
       "Capsular.disruption                              int64\n",
       "Unsharp.margin                                   int64\n",
       "Irregular.contour                                int64\n",
       "Black.estrition.periprostatic.fat                int64\n",
       "Retoprostatic.angle.obliteration                 int64\n",
       "Measurable.ECE                                   int64\n",
       "ECE.in.prostatectomy.specimen_gold.standard      int64\n",
       "Gleason.score                                    int64\n",
       "regra                                          float64\n",
       "dtype: object"
      ]
     },
     "execution_count": 2,
     "metadata": {},
     "output_type": "execute_result"
    }
   ],
   "source": [
    "#register_matplotlib_converters()\n",
    "#Definição variáveis iniciais\n",
    "file = 'data.csv'\n",
    "tc = 'surgycal margin'\n",
    "data = pd.read_csv(file,index_col=tc,na_values='')\n",
    "df = pd.DataFrame(data)\n",
    "data.shape\n",
    "data.dtypes"
   ]
  },
  {
   "cell_type": "code",
   "execution_count": 3,
   "metadata": {},
   "outputs": [],
   "source": [
    "#Tipos de variável\n",
    "def get_variable_types(df):\n",
    "    NR_SYMBOLS = 10\n",
    "    variable_types = {'binary': [], 'numeric': [], 'date': [], 'symbolic': []}\n",
    "    for c in df.columns:\n",
    "        mv = df[c].isna().sum()\n",
    "        uniques = df[c].unique()\n",
    "        if mv == 0:\n",
    "            if len(uniques) == 2:\n",
    "                variable_types['binary'].append(c)\n",
    "                df[c].astype('bool')\n",
    "            elif df[c].dtype == 'datetime64':\n",
    "                variable_types['date'].append(c)\n",
    "            elif len(uniques) < NR_SYMBOLS:\n",
    "                df[c].astype('category')\n",
    "                variable_types['symbolic'].append(c)\n",
    "            else:\n",
    "                variable_types['numeric'].append(c)\n",
    "        else:\n",
    "            uniques = [v for v in uniques if not np.isnan(v)]\n",
    "            values = [v for v in uniques if isinstance(v,str)]\n",
    "            if len(uniques) == 2:\n",
    "                variable_types['binary'].append(c)\n",
    "            elif len(values) == len(uniques):\n",
    "                df[c].astype('category')\n",
    "                variable_types['symbolic'].append(c)\n",
    "            else:\n",
    "                values = [v for v in uniques if isinstance(v, datetime)]\n",
    "                if len(values) == len(uniques):\n",
    "                    variable_types['date'].append(c)\n",
    "                else:\n",
    "                    variable_types['numeric'].append(c)\n",
    "    return variable_types"
   ]
  },
  {
   "cell_type": "code",
   "execution_count": 4,
   "metadata": {},
   "outputs": [
    {
     "name": "stdout",
     "output_type": "stream",
     "text": [
      "{'binary': ['Smooth.capsular.bulging', 'Capsular.disruption', 'Unsharp.margin', 'Irregular.contour', 'Black.estrition.periprostatic.fat', 'Retoprostatic.angle.obliteration', 'Measurable.ECE', 'ECE.in.prostatectomy.specimen_gold.standard', 'Gleason.score', 'regra'], 'numeric': ['Age.at.MRI', 'Prostate.volume', 'PSA.value.at.MRI', 'Index.lesion.size', 'Capsular.contact.lenght_TLC'], 'date': [], 'symbolic': ['Index.lesion.PIRADS.V2']}\n"
     ]
    },
    {
     "data": {
      "image/png": "[encoded data removed]",
      "text/plain": [
       "<Figure size 600x300 with 1 Axes>"
      ]
     },
     "metadata": {
      "needs_background": "dark"
     },
     "output_type": "display_data"
    }
   ],
   "source": [
    "#Cálculo das variáveis\n",
    "variable_types = get_variable_types(data)\n",
    "print(variable_types)\n",
    "counts = {}\n",
    "for tp in variable_types.keys():\n",
    "    counts[tp] = len(variable_types[tp])\n",
    "plt.figure(figsize=(4,2))\n",
    "ds.bar_chart(list(counts.keys()), list(counts.values()), title='Nr of variables per type')\n",
    "#plt.savefig('Images/variable_types.png')\n",
    "plt.show()\n",
    "\n",
    "#Tipos das variáveis\n",
    "binary_vars = variable_types['binary']\n",
    "numeric_vars = variable_types['numeric']\n",
    "symbolic_vars = variable_types['symbolic']"
   ]
  },
  {
   "cell_type": "code",
   "execution_count": 5,
   "metadata": {},
   "outputs": [
    {
     "data": {
      "image/png": "[encoded data removed]",
      "text/plain": [
       "<Figure size 600x450 with 1 Axes>"
      ]
     },
     "metadata": {
      "needs_background": "dark"
     },
     "output_type": "display_data"
    }
   ],
   "source": [
    "#Cálculo dos missing values\n",
    "mv = {}\n",
    "for var in data:\n",
    "    nr = data[var].isna().sum()\n",
    "    if nr > 0:\n",
    "        mv[var] = nr\n",
    "plt.figure()\n",
    "ds.bar_chart(list(mv.keys()), list(mv.values()), title='Nr of missing values per variable',xlabel='variables', ylabel='nr missing values', rotation=True)\n",
    "#plt.savefig('images/mv.png')\n",
    "plt.show()"
   ]
  }
 ],
 "metadata": {
  "interpreter": {
   "hash": "1e84df4a150030eabb55304e8d3648d8a41821864f4805c34fc15caee6f90a5e"
  },
  "kernelspec": {
   "display_name": "Python 3.10.2 64-bit",
   "language": "python",
   "name": "python3"
  },
  "language_info": {
   "codemirror_mode": {
    "name": "ipython",
    "version": 3
   },
   "file_extension": ".py",
   "mimetype": "text/x-python",
   "name": "python",
   "nbconvert_exporter": "python",
   "pygments_lexer": "ipython3",
   "version": "3.10.2"
  },
  "orig_nbformat": 4
 },
 "nbformat": 4,
 "nbformat_minor": 2
}
